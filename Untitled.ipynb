{
 "cells": [
  {
   "cell_type": "code",
   "execution_count": 1,
   "metadata": {
    "collapsed": true
   },
   "outputs": [],
   "source": [
    "import xlrd"
   ]
  },
  {
   "cell_type": "code",
   "execution_count": 2,
   "metadata": {},
   "outputs": [
    {
     "data": {
      "text/plain": [
       "''"
      ]
     },
     "execution_count": 2,
     "metadata": {},
     "output_type": "execute_result"
    }
   ],
   "source": [
    "loc = (\"ts2img.xlsx\")\n",
    "wb = xlrd.open_workbook(loc) \n",
    "sheet = wb.sheet_by_index(0) \n",
    "  \n",
    "# For row 0 and column 0 \n",
    "sheet.cell_value(0, 0)"
   ]
  },
  {
   "cell_type": "code",
   "execution_count": 6,
   "metadata": {
    "collapsed": true
   },
   "outputs": [],
   "source": [
    "a=sheet.row_values(1)\n",
    "b=sheet.row_values(2)\n",
    "c=sheet.row_values(3)\n",
    "d=sheet.row_values(4)\n",
    "e=sheet.row_values(5)"
   ]
  },
  {
   "cell_type": "code",
   "execution_count": 14,
   "metadata": {
    "collapsed": true
   },
   "outputs": [],
   "source": [
    "a=a[1:1201]\n",
    "b=b[1:1201]\n",
    "c=c[1:1201]\n",
    "d=d[1:1201]\n",
    "e=e[1:1201]"
   ]
  },
  {
   "cell_type": "code",
   "execution_count": 15,
   "metadata": {},
   "outputs": [
    {
     "name": "stdout",
     "output_type": "stream",
     "text": [
      "(1200, 1)\n",
      "(1200, 1)\n",
      "(1200, 1)\n"
     ]
    }
   ],
   "source": [
    "import numpy as np\n",
    "a = np.asarray(a)\n",
    "b=np.asarray(b)\n",
    "c = np.asarray(c)\n",
    "d=np.asarray(d)\n",
    "e = np.asarray(e)\n",
    "print(a.shape)\n",
    "a = np.reshape(a, (-1, 1))\n",
    "b = np.reshape(b, (-1, 1))\n",
    "c = np.reshape(c, (-1, 1))\n",
    "d = np.reshape(d, (-1, 1))\n",
    "e = np.reshape(e, (-1, 1))\n",
    "print(a.shape)\n",
    "print(b.shape)\n"
   ]
  },
  {
   "cell_type": "code",
   "execution_count": 16,
   "metadata": {},
   "outputs": [
    {
     "name": "stdout",
     "output_type": "stream",
     "text": [
      "(1200, 5)\n"
     ]
    }
   ],
   "source": [
    "C=np.concatenate((a, b,c,d,e), axis=1)\n",
    "print(C.shape)"
   ]
  },
  {
   "cell_type": "code",
   "execution_count": 17,
   "metadata": {},
   "outputs": [
    {
     "name": "stderr",
     "output_type": "stream",
     "text": [
      "C:\\Users\\hp\\Anaconda3\\lib\\site-packages\\sklearn\\utils\\validation.py:475: DataConversionWarning: Data with input dtype <U32 was converted to float64 by MinMaxScaler.\n",
      "  warnings.warn(msg, DataConversionWarning)\n"
     ]
    },
    {
     "data": {
      "image/png": "[encoded data removed]",
      "text/plain": [
       "<matplotlib.figure.Figure at 0x1ac8d90ada0>"
      ]
     },
     "metadata": {},
     "output_type": "display_data"
    }
   ],
   "source": [
    "import numpy as np\n",
    "import matplotlib.pyplot as plt\n",
    "from pyts.image import GASF, GADF\n",
    "\n",
    "\n",
    "# GAF transformations\n",
    "image_size = 5\n",
    "gasf = GASF(image_size)\n",
    "X_gasf = gasf.fit_transform(C)\n",
    "gadf = GADF(image_size)\n",
    "X_gadf = gadf.fit_transform(C)\n",
    "\n",
    "# Show the results for the first time series\n",
    "plt.figure(figsize=(16, 8))\n",
    "plt.subplot(121)\n",
    "plt.imshow(X_gasf[0], cmap='rainbow', origin='lower')\n",
    "plt.title(\"GASF\", fontsize=16)\n",
    "plt.subplot(122)\n",
    "plt.imshow(X_gadf[0], cmap='rainbow', origin='lower')\n",
    "plt.title(\"GADF\", fontsize=16)\n",
    "plt.show()"
   ]
  },
  {
   "cell_type": "code",
   "execution_count": 18,
   "metadata": {
    "collapsed": true
   },
   "outputs": [],
   "source": [
    "l=sheet.row_values(8)\n",
    "m=sheet.row_values(9)\n",
    "n=sheet.row_values(10)\n",
    "o=sheet.row_values(11)\n",
    "p=sheet.row_values(12)\n",
    "l=l[1:1201]\n",
    "m=m[1:1201]\n",
    "n=n[1:1201]\n",
    "o=o[1:1201]\n",
    "p=p[1:1201]"
   ]
  },
  {
   "cell_type": "code",
   "execution_count": 19,
   "metadata": {},
   "outputs": [
    {
     "name": "stdout",
     "output_type": "stream",
     "text": [
      "(1200,)\n"
     ]
    }
   ],
   "source": [
    "import numpy as np\n",
    "l = np.asarray(l)\n",
    "m=np.asarray(m)\n",
    "n = np.asarray(n)\n",
    "o=np.asarray(o)\n",
    "p = np.asarray(p)\n",
    "print(l.shape)\n",
    "l = np.reshape(l, (-1, 1))\n",
    "m = np.reshape(m, (-1, 1))\n",
    "n = np.reshape(n, (-1, 1))\n",
    "o = np.reshape(o, (-1, 1))\n",
    "p = np.reshape(p, (-1, 1))"
   ]
  },
  {
   "cell_type": "code",
   "execution_count": 20,
   "metadata": {},
   "outputs": [
    {
     "name": "stdout",
     "output_type": "stream",
     "text": [
      "(1200, 5)\n"
     ]
    }
   ],
   "source": [
    "D=np.concatenate((a, b,c,d,e), axis=1)\n",
    "print(D.shape)"
   ]
  },
  {
   "cell_type": "code",
   "execution_count": 21,
   "metadata": {},
   "outputs": [
    {
     "name": "stderr",
     "output_type": "stream",
     "text": [
      "C:\\Users\\hp\\Anaconda3\\lib\\site-packages\\sklearn\\utils\\validation.py:475: DataConversionWarning: Data with input dtype <U32 was converted to float64 by MinMaxScaler.\n",
      "  warnings.warn(msg, DataConversionWarning)\n"
     ]
    },
    {
     "data": {
      "image/png": "[encoded data removed]",
      "text/plain": [
       "<matplotlib.figure.Figure at 0x1ac8d551be0>"
      ]
     },
     "metadata": {},
     "output_type": "display_data"
    }
   ],
   "source": [
    "import numpy as np\n",
    "import matplotlib.pyplot as plt\n",
    "from pyts.image import GASF, GADF\n",
    "\n",
    "\n",
    "# GAF transformations\n",
    "image_size = 5\n",
    "gasf = GASF(image_size)\n",
    "X_gasf = gasf.fit_transform(D)\n",
    "gadf = GADF(image_size)\n",
    "X_gadf = gadf.fit_transform(D)\n",
    "\n",
    "# Show the results for the first time series\n",
    "plt.figure(figsize=(16, 8))\n",
    "plt.subplot(121)\n",
    "plt.imshow(X_gasf[0], cmap='rainbow', origin='lower')\n",
    "plt.title(\"GASF\", fontsize=16)\n",
    "plt.subplot(122)\n",
    "plt.imshow(X_gadf[0], cmap='rainbow', origin='lower')\n",
    "plt.title(\"GADF\", fontsize=16)\n",
    "plt.show()"
   ]
  },
  {
   "cell_type": "code",
   "execution_count": 1,
   "metadata": {
    "collapsed": true
   },
   "outputs": [],
   "source": [
    "import pandas as pd\n",
    "import numpy as np\n",
    "import matplotlib.pyplot as plt"
   ]
  },
  {
   "cell_type": "code",
   "execution_count": 25,
   "metadata": {
    "collapsed": true
   },
   "outputs": [],
   "source": [
    "data1=pd.read_csv(\"timeseriesdata.csv\",low_memory=False)"
   ]
  },
  {
   "cell_type": "code",
   "execution_count": 28,
   "metadata": {},
   "outputs": [],
   "source": [
    "from sklearn.metrics import confusion_matrix\n",
    "from sklearn.model_selection import train_test_split\n",
    "Y=data1.pop(\"0\")"
   ]
  },
  {
   "cell_type": "code",
   "execution_count": 29,
   "metadata": {},
   "outputs": [],
   "source": [
    "from sklearn.metrics import confusion_matrix\n",
    "from sklearn.model_selection import train_test_split\n",
    "import datetime\n",
    "from keras.models import Sequential\n",
    "from keras.layers import Dense, Dropout, Activation, Flatten\n",
    "from keras.layers import Convolution2D, MaxPooling2D\n",
    "from keras.utils import np_utils\n",
    "from keras import backend as K\n",
    "from numpy import nan\n",
    "\n",
    "now = datetime.datetime.now\n",
    "from keras.models import Sequential\n",
    "from keras.layers.core import Dense\n",
    "from keras.optimizers import SGD\n",
    "from keras.models import Sequential\n",
    "from keras.layers.core import Dense\n",
    "from keras.optimizers import SGD\n",
    "from numpy import argmax\n",
    "from keras.utils import to_categorical\n",
    "nb_classes = 9\n",
    "import time"
   ]
  },
  {
   "cell_type": "code",
   "execution_count": 30,
   "metadata": {},
   "outputs": [],
   "source": [
    "X_train1, X_test1, y_train1, y_test1 = train_test_split(data1, Y, random_state = 42)\n",
    "Y_train1 = np_utils.to_categorical(y_train1, nb_classes)\n",
    "Y_test1 = np_utils.to_categorical(y_test1, nb_classes)"
   ]
  },
  {
   "cell_type": "code",
   "execution_count": 31,
   "metadata": {
    "collapsed": true
   },
   "outputs": [],
   "source": [
    "import numpy as np\n",
    "from keras.models import Sequential\n",
    "\n",
    "from keras.utils import np_utils\n",
    "from keras.layers import Dense, Dropout, LSTM, Embedding"
   ]
  },
  {
   "cell_type": "code",
   "execution_count": 32,
   "metadata": {},
   "outputs": [
    {
     "name": "stdout",
     "output_type": "stream",
     "text": [
      "Compiling...\n"
     ]
    },
    {
     "name": "stderr",
     "output_type": "stream",
     "text": [
      "C:\\Users\\hp\\Anaconda3\\lib\\site-packages\\ipykernel_launcher.py:3: UserWarning: Update your `LSTM` call to the Keras 2 API: `LSTM(activation=\"sigmoid\", return_sequences=True, units=256, recurrent_activation=\"hard_sigmoid\")`\n",
      "  This is separate from the ipykernel package so we can avoid doing imports until\n",
      "C:\\Users\\hp\\Anaconda3\\lib\\site-packages\\ipykernel_launcher.py:5: UserWarning: Update your `LSTM` call to the Keras 2 API: `LSTM(activation=\"sigmoid\", units=9, recurrent_activation=\"hard_sigmoid\")`\n",
      "  \"\"\"\n"
     ]
    }
   ],
   "source": [
    "model = Sequential()\n",
    "#model.add(Embedding(input_dim = 81, output_dim = 9, input_length = len(X_train1[0])))\n",
    "model.add(LSTM(output_dim=256, activation='sigmoid', inner_activation='hard_sigmoid', return_sequences=True))\n",
    "model.add(Dropout(0.5))\n",
    "model.add(LSTM(output_dim=9, activation='sigmoid', inner_activation='hard_sigmoid'))\n",
    "model.add(Dropout(0.5))\n",
    "model.add(Dense(1, activation='sigmoid'))\n",
    "\n",
    "print ('Compiling...')\n",
    "model.compile(loss='binary_crossentropy',\n",
    "                  optimizer='rmsprop',\n",
    "                  metrics=['accuracy'])"
   ]
  },
  {
   "cell_type": "code",
   "execution_count": 33,
   "metadata": {},
   "outputs": [
    {
     "ename": "ValueError",
     "evalue": "Please provide as model inputs either a single array or a list of arrays. You passed: x=     49.999993  49.999996   49.99999  49.999988  50.199976  51.142776  \\\n165   1.031738   1.031750   1.031738   1.031749   1.031747   1.031738   \n164   1.031738   1.031750   1.031738   1.031749   1.031747   1.031738   \n28   49.999993  49.999996  49.999990  49.999988  50.061974  50.354191   \n395  50.000006  50.000002  50.000004  50.000005  49.997781  49.996658   \n193   1.034590   1.034685   1.034591   1.034681   1.034660   1.034587   \n709  50.000001  50.000001  50.000001  50.000001  50.000001  50.000001   \n514  49.999999  50.000005  50.000001  50.000004  49.606359  49.681611   \n769   1.056848   1.056848   1.056848   1.056848   1.056781   1.056694   \n136  49.922290  49.922293  49.922293  49.922300  49.922301  49.922305   \n404  50.000000  49.999997  49.999998  49.999999  49.999619  49.999442   \n483   1.034304   1.034356   1.031927   1.031692   1.031519   1.031511   \n140  49.998546  49.998778  49.998548  49.998642  49.998786  49.998542   \n664   1.049825   1.049825   1.049825   1.049825   0.823416   0.794901   \n6    50.000004  50.000002  50.000007  50.000009  50.129826  50.741823   \n377   1.034477   1.034488   1.044071   1.045022   1.046014   1.046629   \n718  50.000001  50.000001  50.000001  50.000001  50.000001  50.000001   \n73    1.057558   1.057562   0.816435   0.815141   1.045054   1.055061   \n632  49.999995  49.999998  49.999999  49.999998  50.261890  50.173312   \n254   1.032568   1.032570   1.032578   1.032566   1.032576   1.032565   \n145  50.001446  50.001352  50.001208  50.001448  50.001216  50.001446   \n538  49.999999  50.000005  50.000001  50.000004  49.687690  49.865046   \n292  49.999889  50.000016  49.999973  49.999934  50.000507  50.000876   \n451  49.999870  50.000004  49.999827  49.999664  50.000452  50.000722   \n132  50.207935  50.207923  50.207917  50.207906  50.207900  50.207889   \n363   1.034477   1.034488   1.037197   1.037461   1.037737   1.037869   \n319  49.999889  50.000016  49.999973  49.999934  50.001312  50.003237   \n425   1.032565   1.032566   1.077480   1.079139   1.080706   1.081698   \n739   1.056335   1.056335   1.056334   1.056031   1.056451   1.056549   \n731  50.000001  50.000001  50.000001  50.000001  50.000001  50.000001   \n41   50.000005  50.000003  50.000008  50.000009  50.203193  51.161061   \n..         ...        ...        ...        ...        ...        ...   \n21   49.999994  49.999997  49.999992  49.999990  50.063646  50.363742   \n313  49.999889  50.000016  49.999973  49.999934  50.000082  50.000260   \n459   1.050054   1.050054   1.039769   1.039587   1.039419   1.039340   \n160   1.034986   1.034978   1.034989   1.034978   1.034989   1.034978   \n276   1.034479   1.034499   1.034572   1.034475   1.034569   1.034477   \n191   1.034619   1.034600   1.034530   1.034627   1.034536   1.034628   \n385  50.000006  50.000002  50.000004  50.000005  49.998219  49.997484   \n413   1.025526   1.025526   1.047576   1.047867   1.048065   1.048039   \n491  49.999999  50.000005  50.000001  50.000004  49.887778  49.732555   \n343   1.034477   1.034488   1.040771   1.041233   1.041677   1.041927   \n308  49.999889  50.000016  49.999973  49.999934  50.003584  50.007598   \n661   1.056433   1.056433   1.056433   1.056433   1.055670   1.055605   \n130  50.102901  50.102894  50.102892  50.102886  50.102882  50.102880   \n663   1.056433   1.056433   1.056433   1.056433   1.056324   1.056525   \n99   49.999999  50.000001  50.000004  50.000003  50.000006  50.000005   \n372   1.034477   1.034488   1.037492   1.037806   1.038077   1.038282   \n87    1.049933   1.049937   0.774528   0.774390   1.037292   1.047762   \n458   1.050054   1.050054   1.044887   1.044793   1.044710   1.044655   \n330  49.999889  50.000016  49.999973  49.999934  50.003158  50.007181   \n214  49.999889  50.000121  50.000026  49.999880  50.000125  49.999889   \n466   1.035187   1.035240   1.030358   1.029703   1.029432   1.029400   \n121  50.120519  50.120517  50.120510  50.120503  50.120500  50.120493   \n614  50.000000  50.000000  50.000010  49.999994  49.992203  50.002627   \n20   49.999993  49.999997  49.999990  49.999988  50.063532  50.363097   \n700  50.000000  50.000000  50.000000  50.000000  50.000000  50.001513   \n71    1.057574   1.057570   0.821096   0.819837   1.045152   1.055016   \n106  49.817013  49.817024  49.817030  49.817039  49.817050  49.817055   \n270   1.034479   1.034499   1.034572   1.034475   1.034569   1.034477   \n435  49.999982  50.000062  49.999854  49.999664  50.002570  50.003278   \n102  50.369421  50.369403  50.369384  50.369373  50.369353  50.369341   \n\n      50.57159  50.293677  50.160908  50.098359    ...      50.019664  \\\n165   1.031747   1.031744   1.031707   1.031621    ...       1.044432   \n164   1.031747   1.031744   1.031707   1.031621    ...       1.044432   \n28   50.179736  50.093122  50.050518  50.030304    ...      50.034255   \n395  49.996109  49.995725  49.995493  49.995180    ...      49.978598   \n193   1.034667   1.034636   1.034610   1.034562    ...       1.033693   \n709  50.000001  50.031880  50.038145  50.036570    ...      50.000476   \n514  49.831759  50.113048  49.852879  49.936354    ...      49.984037   \n769   1.056653   1.056629   1.056615   1.056607    ...       1.056511   \n136  49.922310  49.922311  49.922312  49.921830    ...      49.675069   \n404  49.999357  49.999261  49.999239  49.999096    ...      49.991803   \n483   1.031538   1.031518   1.031537   1.031473    ...       1.038081   \n140  49.998736  49.998523  49.998395  49.998424    ...      49.975332   \n664   0.787944   0.786333   0.786500   0.787237    ...       1.062731   \n6    50.383179  50.207835  50.125008  50.087349    ...      50.039114   \n377   1.047232   1.047879   1.048548   1.049531    ...       1.034660   \n718  50.000001  50.001220  50.000668  50.000020    ...      50.002454   \n73    1.061004   1.060912   1.059721   1.058504    ...       1.055270   \n632  50.101753  50.057437  50.054762  50.058000    ...      49.934390   \n254   1.032566   1.020786   1.020015   1.019304    ...       1.028003   \n145  50.001368  50.001216  50.001124  50.001181    ...      49.978193   \n538  49.961851  49.974162  49.957331  50.006189    ...      49.991795   \n292  50.001199  50.001580  50.001919  50.002305    ...      50.017773   \n451  50.000852  50.000958  50.001092  50.001289    ...      50.003959   \n132  50.207883  50.207873  50.207867  50.207368    ...      49.967344   \n363   1.038057   1.038310   1.038497   1.038692    ...       1.033334   \n319  50.004340  50.005271  50.007024  50.006757    ...      50.080655   \n425   1.082700   1.083890   1.085271   1.086803    ...       1.027723   \n739   1.056533   1.056576   1.056591   1.056617    ...       1.056301   \n731  50.000001  49.996527  49.995082  49.994713    ...      50.007596   \n41   50.600369  50.326223  50.195746  50.135811    ...      50.042500   \n..         ...        ...        ...        ...    ...            ...   \n21   50.178976  50.090379  50.049058  50.030377    ...      50.009724   \n313  50.000482  50.000460  50.000462  50.000635    ...      50.006537   \n459   1.039282   1.039256   1.039223   1.039191    ...       1.040533   \n160   1.034987   1.034984   1.034950   1.034870    ...       1.044642   \n276   1.034488   1.027794   1.027121   1.026547    ...       1.038677   \n191   1.034612   1.034547   1.034532   1.034557    ...       1.033630   \n385  49.997172  49.996986  49.996787  49.996521    ...      49.989937   \n413   1.048002   1.047978   1.047963   1.047993    ...       1.046656   \n491  49.713358  49.766117  49.919157  49.943488    ...      49.987110   \n343   1.042087   1.042210   1.042391   1.042490    ...       1.038158   \n308  50.010431  50.012990  50.015507  50.019138    ...      50.177458   \n661   1.055657   1.055738   1.055816   1.055883    ...       1.056303   \n130  50.102874  50.102871  50.102869  50.102375    ...      49.860203   \n663   1.056705   1.056839   1.056936   1.057008    ...       1.056125   \n99   50.000006  50.000008  49.999892  49.999640    ...      49.903321   \n372   1.038453   1.038610   1.038912   1.039142    ...       1.033098   \n87    1.053819   1.053281   1.051629   1.049897    ...       1.038066   \n458   1.044642   1.044626   1.044612   1.044593    ...       1.045281   \n330  50.009750  50.011880  50.013875  50.017289    ...      50.183835   \n214  50.000016  49.999973  49.999934  49.998404    ...      49.894302   \n466   1.029425   1.029443   1.029379   1.029299    ...       1.043033   \n121  50.120490  50.120483  50.120479  50.119985    ...      49.877817   \n614  50.006670  49.986645  49.995449  50.007668    ...      49.958045   \n20   50.179673  50.092089  50.051340  50.033037    ...      50.021790   \n700  50.001662  50.001743  50.001758  50.001772    ...      50.002356   \n71    1.060878   1.060802   1.059648   1.058466    ...       1.055314   \n106  49.817064  49.817071  49.817075  49.816892    ...      49.719668   \n270   1.034488   1.032393   1.032171   1.031987    ...       1.035376   \n435  50.003659  50.004048  50.004458  50.005220    ...      50.016273   \n102  50.369325  50.369312  50.369305  50.368439    ...      50.272077   \n\n     50.024052  50.026566  50.030256  50.032482  50.035234  50.037086  \\\n165   1.044285   1.044085   1.043707   1.043292   1.042826   1.042206   \n164   1.044285   1.044085   1.043707   1.043292   1.042826   1.042206   \n28   50.034697  50.035111  50.035433  50.035712  50.035886  50.036008   \n395  49.978174  49.977955  49.977505  49.977067  49.977006  49.976683   \n193   1.033957   1.034036   1.034220   1.034448   1.034452   1.034562   \n709  49.999265  49.998108  49.997009  49.995971  49.994998  49.994094   \n514  49.984361  49.984687  49.985026  49.985363  49.985705  49.986060   \n769   1.056507   1.056503   1.056499   1.056495   1.056490   1.056486   \n136  49.674069  49.673257  49.672597  49.672053  49.671590  49.671171   \n404  49.991738  49.991673  49.991593  49.991489  49.991433  49.991314   \n483   1.037765   1.037652   1.037313   1.037162   1.036799   1.036546   \n140  49.974577  49.974606  49.973882  49.972721  49.973582  49.972996   \n664   1.062876   1.063015   1.063124   1.063206   1.063269   1.063317   \n6    50.041972  50.044999  50.048391  50.051335  50.054042  50.056476   \n377   1.034978   1.035186   1.035481   1.036101   1.036686   1.037231   \n718  50.002368  50.002278  50.002182  50.002081  50.001976  50.001867   \n73    1.055156   1.055103   1.055107   1.055164   1.055268   1.055411   \n632  49.936781  49.919928  49.961062  49.957058  49.953214  49.951822   \n254   1.028176   1.028244   1.028382   1.028361   1.028398   1.028451   \n145  49.977829  49.977075  49.976023  49.976561  49.975899  49.974644   \n538  49.991963  49.992131  49.992305  49.992486  49.992658  49.992842   \n292  50.018278  50.018299  50.018663  50.019119  50.019026  50.019519   \n451  50.003904  50.004348  50.004208  50.004562  50.004418  50.004740   \n132  49.966670  49.966029  49.965386  49.964707  49.963962  49.963124   \n363   1.033444   1.033445   1.033648   1.033745   1.034031   1.034277   \n319  50.081675  50.082175  50.082999  50.083408  50.084173  50.084573   \n425   1.028944   1.030493   1.032120   1.033898   1.035830   1.037903   \n739   1.056295   1.056290   1.056284   1.056278   1.056273   1.056267   \n731  50.007622  50.007627  50.007611  50.007575  50.007518  50.007439   \n41   50.043504  50.044344  50.044966  50.045321  50.045363  50.045084   \n..         ...        ...        ...        ...        ...        ...   \n21   50.008460  50.007519  50.006629  50.005800  50.005036  50.004339   \n313  50.006701  50.006962  50.006681  50.006986  50.006804  50.006957   \n459   1.040504   1.040474   1.040427   1.040387   1.040332   1.040284   \n160   1.044294   1.043922   1.043513   1.042965   1.042399   1.041801   \n276   1.038971   1.039315   1.039390   1.039506   1.039317   1.039183   \n191   1.033750   1.033953   1.034205   1.034237   1.034382   1.034569   \n385  49.989804  49.989725  49.989675  49.989556  49.989480  49.989425   \n413   1.046668   1.046692   1.046706   1.046740   1.046769   1.046805   \n491  49.987358  49.987610  49.987872  49.988143  49.988411  49.988696   \n343   1.037997   1.038020   1.037972   1.038005   1.037971   1.037923   \n308  50.180928  50.180966  50.182817  50.186318  50.185772  50.187712   \n661   1.056302   1.056304   1.056308   1.056314   1.056320   1.056327   \n130  49.859458  49.858797  49.858183  49.857584  49.856964  49.856295   \n663   1.056112   1.056100   1.056091   1.056082   1.056074   1.056065   \n99   49.903589  49.902937  49.902991  49.902412  49.902257  49.901736   \n372   1.033092   1.033258   1.033358   1.033625   1.033882   1.034097   \n87    1.038016   1.038189   1.038549   1.039044   1.039724   1.040524   \n458   1.045260   1.045244   1.045229   1.045200   1.045181   1.045149   \n330  50.183621  50.187204  50.186716  50.188628  50.191742  50.191460   \n214  49.892955  49.891820  49.890105  49.889730  49.887563  49.887637   \n466   1.042622   1.042228   1.041720   1.041176   1.040634   1.040119   \n121  49.877093  49.876443  49.875830  49.875221  49.874581  49.873881   \n614  49.961742  49.967431  49.968400  49.968729  49.969023  49.969393   \n20   50.020896  50.020069  50.018857  50.018058  50.017262  50.016493   \n700  50.002364  50.002375  50.002388  50.002405  50.002425  50.002447   \n71    1.055199   1.055144   1.055146   1.055200   1.055300   1.055439   \n106  49.719273  49.718934  49.718641  49.718380  49.718141  49.717721   \n270   1.035397   1.035517   1.035683   1.035590   1.035681   1.035555   \n435  50.016690  50.017340  50.017589  50.018208  50.018573  50.018933   \n102  50.270401  50.268955  50.267373  50.265632  50.264376  50.262808   \n\n     50.038782  50.040211  50.040868  \n165   1.041552   1.040853   1.040017  \n164   1.041552   1.040853   1.040017  \n28   50.036021  50.035980  50.035831  \n395  49.976340  49.975994  49.975808  \n193   1.034713   1.034614   1.034629  \n709  49.993261  49.992502  49.991820  \n514  49.986412  49.986767  49.987097  \n769   1.056482   1.056478   1.056474  \n136  49.670762  49.670328  49.669841  \n404  49.991257  49.991178  49.991072  \n483   1.036343   1.035944   1.035752  \n140  49.971750  49.973101  49.972551  \n664   1.063355   1.063384   1.063407  \n6    50.058551  50.060206  50.061389  \n377   1.038129   1.038864   1.039562  \n718  50.001754  50.001636  50.001515  \n73    1.055606   1.055718   1.055930  \n632  49.951693  49.952176  49.952984  \n254   1.028302   1.028251   1.028225  \n145  49.975849  49.975379  49.974221  \n538  49.993009  49.993185  49.993362  \n292  50.019522  50.019857  50.020292  \n451  50.004716  50.004620  50.004928  \n132  49.962168  49.961071  49.959834  \n363   1.034473   1.034890   1.035203  \n319  50.085345  50.085793  50.086518  \n425   1.040111   1.042434   1.044808  \n739   1.056261   1.056255   1.056250  \n731  50.007341  50.007222  50.007084  \n41   50.044385  50.043306  50.041834  \n..         ...        ...        ...  \n21   50.003712  50.002212  50.002549  \n313  50.007207  50.006944  50.007252  \n459   1.040222   1.040165   1.040108  \n160   1.041092   1.040371   1.039628  \n276   1.038742   1.038350   1.037687  \n191   1.034506   1.034643   1.034534  \n385  49.989342  49.989283  49.989236  \n413   1.046851   1.046886   1.046938  \n491  49.988965  49.989251  49.989516  \n343   1.037952   1.037908   1.037905  \n308  50.190611  50.190814  50.192641  \n661   1.056332   1.056337   1.056339  \n130  49.855547  49.854695  49.853717  \n663   1.056057   1.056047   1.056036  \n99   49.901360  49.900853  49.900325  \n372   1.034530   1.034879   1.035180  \n87    1.041413   1.042369   1.043267  \n458   1.045122   1.045097   1.045060  \n330  50.193343  50.195969  50.196659  \n214  49.885304  49.885674  49.884365  \n466   1.039446   1.038950   1.038226  \n121  49.873092  49.872189  49.871190  \n614  49.969830  49.970324  49.970886  \n20   50.015761  50.015074  50.013533  \n700  50.002473  50.002501  50.002531  \n71    1.055629   1.055737   1.055944  \n106  49.717822  49.717400  49.717278  \n270   1.035566   1.035368   1.035226  \n435  50.019069  50.019521  50.019432  \n102  50.261031  50.259898  50.258340  \n\n[591 rows x 81 columns]",
     "output_type": "error",
     "traceback": [
      "\u001b[1;31m---------------------------------------------------------------------------\u001b[0m",
      "\u001b[1;31mValueError\u001b[0m                                Traceback (most recent call last)",
      "\u001b[1;32m<ipython-input-33-c97faee650d9>\u001b[0m in \u001b[0;36m<module>\u001b[1;34m()\u001b[0m\n\u001b[0;32m      9\u001b[0m           \u001b[0mvalidation_data\u001b[0m\u001b[1;33m=\u001b[0m\u001b[1;33m(\u001b[0m\u001b[0mX_test1\u001b[0m\u001b[1;33m,\u001b[0m \u001b[0mY_test1\u001b[0m\u001b[1;33m)\u001b[0m\u001b[1;33m,\u001b[0m\u001b[1;33m\u001b[0m\u001b[0m\n\u001b[0;32m     10\u001b[0m \u001b[1;33m\u001b[0m\u001b[0m\n\u001b[1;32m---> 11\u001b[1;33m           callbacks=[early_stopping])\n\u001b[0m",
      "\u001b[1;32m~\\Anaconda3\\lib\\site-packages\\keras\\engine\\training.py\u001b[0m in \u001b[0;36mfit\u001b[1;34m(self, x, y, batch_size, epochs, verbose, callbacks, validation_split, validation_data, shuffle, class_weight, sample_weight, initial_epoch, steps_per_epoch, validation_steps, **kwargs)\u001b[0m\n\u001b[0;32m    948\u001b[0m             \u001b[0msample_weight\u001b[0m\u001b[1;33m=\u001b[0m\u001b[0msample_weight\u001b[0m\u001b[1;33m,\u001b[0m\u001b[1;33m\u001b[0m\u001b[0m\n\u001b[0;32m    949\u001b[0m             \u001b[0mclass_weight\u001b[0m\u001b[1;33m=\u001b[0m\u001b[0mclass_weight\u001b[0m\u001b[1;33m,\u001b[0m\u001b[1;33m\u001b[0m\u001b[0m\n\u001b[1;32m--> 950\u001b[1;33m             batch_size=batch_size)\n\u001b[0m\u001b[0;32m    951\u001b[0m         \u001b[1;31m# Prepare validation data.\u001b[0m\u001b[1;33m\u001b[0m\u001b[1;33m\u001b[0m\u001b[0m\n\u001b[0;32m    952\u001b[0m         \u001b[0mdo_validation\u001b[0m \u001b[1;33m=\u001b[0m \u001b[1;32mFalse\u001b[0m\u001b[1;33m\u001b[0m\u001b[0m\n",
      "\u001b[1;32m~\\Anaconda3\\lib\\site-packages\\keras\\engine\\training.py\u001b[0m in \u001b[0;36m_standardize_user_data\u001b[1;34m(self, x, y, sample_weight, class_weight, check_array_lengths, batch_size)\u001b[0m\n\u001b[0;32m    662\u001b[0m                                      \u001b[1;34m'either a single '\u001b[0m\u001b[1;33m\u001b[0m\u001b[0m\n\u001b[0;32m    663\u001b[0m                                      \u001b[1;34m'array or a list of arrays. '\u001b[0m\u001b[1;33m\u001b[0m\u001b[0m\n\u001b[1;32m--> 664\u001b[1;33m                                      'You passed: x=' + str(x))\n\u001b[0m\u001b[0;32m    665\u001b[0m                 \u001b[0mall_inputs\u001b[0m\u001b[1;33m.\u001b[0m\u001b[0mappend\u001b[0m\u001b[1;33m(\u001b[0m\u001b[0mx\u001b[0m\u001b[1;33m)\u001b[0m\u001b[1;33m\u001b[0m\u001b[0m\n\u001b[0;32m    666\u001b[0m \u001b[1;33m\u001b[0m\u001b[0m\n",
      "\u001b[1;31mValueError\u001b[0m: Please provide as model inputs either a single array or a list of arrays. You passed: x=     49.999993  49.999996   49.99999  49.999988  50.199976  51.142776  \\\n165   1.031738   1.031750   1.031738   1.031749   1.031747   1.031738   \n164   1.031738   1.031750   1.031738   1.031749   1.031747   1.031738   \n28   49.999993  49.999996  49.999990  49.999988  50.061974  50.354191   \n395  50.000006  50.000002  50.000004  50.000005  49.997781  49.996658   \n193   1.034590   1.034685   1.034591   1.034681   1.034660   1.034587   \n709  50.000001  50.000001  50.000001  50.000001  50.000001  50.000001   \n514  49.999999  50.000005  50.000001  50.000004  49.606359  49.681611   \n769   1.056848   1.056848   1.056848   1.056848   1.056781   1.056694   \n136  49.922290  49.922293  49.922293  49.922300  49.922301  49.922305   \n404  50.000000  49.999997  49.999998  49.999999  49.999619  49.999442   \n483   1.034304   1.034356   1.031927   1.031692   1.031519   1.031511   \n140  49.998546  49.998778  49.998548  49.998642  49.998786  49.998542   \n664   1.049825   1.049825   1.049825   1.049825   0.823416   0.794901   \n6    50.000004  50.000002  50.000007  50.000009  50.129826  50.741823   \n377   1.034477   1.034488   1.044071   1.045022   1.046014   1.046629   \n718  50.000001  50.000001  50.000001  50.000001  50.000001  50.000001   \n73    1.057558   1.057562   0.816435   0.815141   1.045054   1.055061   \n632  49.999995  49.999998  49.999999  49.999998  50.261890  50.173312   \n254   1.032568   1.032570   1.032578   1.032566   1.032576   1.032565   \n145  50.001446  50.001352  50.001208  50.001448  50.001216  50.001446   \n538  49.999999  50.000005  50.000001  50.000004  49.687690  49.865046   \n292  49.999889  50.000016  49.999973  49.999934  50.000507  50.000876   \n451  49.999870  50.000004  49.999827  49.999664  50.000452  50.000722   \n132  50.207935  50.207923  50.207917  50.207906  50.207900  50.207889   \n363   1.034477   1.034488   1.037197   1.037461   1.037737   1.037869   \n319  49.999889  50.000016  49.999973  49.999934  50.001312  50.003237   \n425   1.032565   1.032566   1.077480   1.079139   1.080706   1.081698   \n739   1.056335   1.056335   1.056334   1.056031   1.056451   1.056549   \n731  50.000001  50.000001  50.000001  50.000001  50.000001  50.000001   \n41   50.000005  50.000003  50.000008  50.000009  50.203193  51.161061   \n..         ...        ...        ...        ...        ...        ...   \n21   49.999994  49.999997  49.999992  49.999990  50.063646  50.363742   \n313  49.999889  50.000016  49.999973  49.999934  50.000082  50.000260   \n459   1.050054   1.050054   1.039769   1.039587   1.039419   1.039340   \n160   1.034986   1.034978   1.034989   1.034978   1.034989   1.034978   \n276   1.034479   1.034499   1.034572   1.034475   1.034569   1.034477   \n191   1.034619   1.034600   1.034530   1.034627   1.034536   1.034628   \n385  50.000006  50.000002  50.000004  50.000005  49.998219  49.997484   \n413   1.025526   1.025526   1.047576   1.047867   1.048065   1.048039   \n491  49.999999  50.000005  50.000001  50.000004  49.887778  49.732555   \n343   1.034477   1.034488   1.040771   1.041233   1.041677   1.041927   \n308  49.999889  50.000016  49.999973  49.999934  50.003584  50.007598   \n661   1.056433   1.056433   1.056433   1.056433   1.055670   1.055605   \n130  50.102901  50.102894  50.102892  50.102886  50.102882  50.102880   \n663   1.056433   1.056433   1.056433   1.056433   1.056324   1.056525   \n99   49.999999  50.000001  50.000004  50.000003  50.000006  50.000005   \n372   1.034477   1.034488   1.037492   1.037806   1.038077   1.038282   \n87    1.049933   1.049937   0.774528   0.774390   1.037292   1.047762   \n458   1.050054   1.050054   1.044887   1.044793   1.044710   1.044655   \n330  49.999889  50.000016  49.999973  49.999934  50.003158  50.007181   \n214  49.999889  50.000121  50.000026  49.999880  50.000125  49.999889   \n466   1.035187   1.035240   1.030358   1.029703   1.029432   1.029400   \n121  50.120519  50.120517  50.120510  50.120503  50.120500  50.120493   \n614  50.000000  50.000000  50.000010  49.999994  49.992203  50.002627   \n20   49.999993  49.999997  49.999990  49.999988  50.063532  50.363097   \n700  50.000000  50.000000  50.000000  50.000000  50.000000  50.001513   \n71    1.057574   1.057570   0.821096   0.819837   1.045152   1.055016   \n106  49.817013  49.817024  49.817030  49.817039  49.817050  49.817055   \n270   1.034479   1.034499   1.034572   1.034475   1.034569   1.034477   \n435  49.999982  50.000062  49.999854  49.999664  50.002570  50.003278   \n102  50.369421  50.369403  50.369384  50.369373  50.369353  50.369341   \n\n      50.57159  50.293677  50.160908  50.098359    ...      50.019664  \\\n165   1.031747   1.031744   1.031707   1.031621    ...       1.044432   \n164   1.031747   1.031744   1.031707   1.031621    ...       1.044432   \n28   50.179736  50.093122  50.050518  50.030304    ...      50.034255   \n395  49.996109  49.995725  49.995493  49.995180    ...      49.978598   \n193   1.034667   1.034636   1.034610   1.034562    ...       1.033693   \n709  50.000001  50.031880  50.038145  50.036570    ...      50.000476   \n514  49.831759  50.113048  49.852879  49.936354    ...      49.984037   \n769   1.056653   1.056629   1.056615   1.056607    ...       1.056511   \n136  49.922310  49.922311  49.922312  49.921830    ...      49.675069   \n404  49.999357  49.999261  49.999239  49.999096    ...      49.991803   \n483   1.031538   1.031518   1.031537   1.031473    ...       1.038081   \n140  49.998736  49.998523  49.998395  49.998424    ...      49.975332   \n664   0.787944   0.786333   0.786500   0.787237    ...       1.062731   \n6    50.383179  50.207835  50.125008  50.087349    ...      50.039114   \n377   1.047232   1.047879   1.048548   1.049531    ...       1.034660   \n718  50.000001  50.001220  50.000668  50.000020    ...      50.002454   \n73    1.061004   1.060912   1.059721   1.058504    ...       1.055270   \n632  50.101753  50.057437  50.054762  50.058000    ...      49.934390   \n254   1.032566   1.020786   1.020015   1.019304    ...       1.028003   \n145  50.001368  50.001216  50.001124  50.001181    ...      49.978193   \n538  49.961851  49.974162  49.957331  50.006189    ...      49.991795   \n292  50.001199  50.001580  50.001919  50.002305    ...      50.017773   \n451  50.000852  50.000958  50.001092  50.001289    ...      50.003959   \n132  50.207883  50.207873  50.207867  50.207368    ...      49.967344   \n363   1.038057   1.038310   1.038497   1.038692    ...       1.033334   \n319  50.004340  50.005271  50.007024  50.006757    ...      50.080655   \n425   1.082700   1.083890   1.085271   1.086803    ...       1.027723   \n739   1.056533   1.056576   1.056591   1.056617    ...       1.056301   \n731  50.000001  49.996527  49.995082  49.994713    ...      50.007596   \n41   50.600369  50.326223  50.195746  50.135811    ...      50.042500   \n..         ...        ...        ...        ...    ...            ...   \n21   50.178976  50.090379  50.049058  50.030377    ...      50.009724   \n313  50.000482  50.000460  50.000462  50.000635    ...      50.006537   \n459   1.039282   1.039256   1.039223   1.039191    ...       1.040533   \n160   1.034987   1.034984   1.034950   1.034870    ...       1.044642   \n276   1.034488   1.027794   1.027121   1.026547    ...       1.038677   \n191   1.034612   1.034547   1.034532   1.034557    ...       1.033630   \n385  49.997172  49.996986  49.996787  49.996521    ...      49.989937   \n413   1.048002   1.047978   1.047963   1.047993    ...       1.046656   \n491  49.713358  49.766117  49.919157  49.943488    ...      49.987110   \n343   1.042087   1.042210   1.042391   1.042490    ...       1.038158   \n308  50.010431  50.012990  50.015507  50.019138    ...      50.177458   \n661   1.055657   1.055738   1.055816   1.055883    ...       1.056303   \n130  50.102874  50.102871  50.102869  50.102375    ...      49.860203   \n663   1.056705   1.056839   1.056936   1.057008    ...       1.056125   \n99   50.000006  50.000008  49.999892  49.999640    ...      49.903321   \n372   1.038453   1.038610   1.038912   1.039142    ...       1.033098   \n87    1.053819   1.053281   1.051629   1.049897    ...       1.038066   \n458   1.044642   1.044626   1.044612   1.044593    ...       1.045281   \n330  50.009750  50.011880  50.013875  50.017289    ...      50.183835   \n214  50.000016  49.999973  49.999934  49.998404    ...      49.894302   \n466   1.029425   1.029443   1.029379   1.029299    ...       1.043033   \n121  50.120490  50.120483  50.120479  50.119985    ...      49.877817   \n614  50.006670  49.986645  49.995449  50.007668    ...      49.958045   \n20   50.179673  50.092089  50.051340  50.033037    ...      50.021790   \n700  50.001662  50.001743  50.001758  50.001772    ...      50.002356   \n71    1.060878   1.060802   1.059648   1.058466    ...       1.055314   \n106  49.817064  49.817071  49.817075  49.816892    ...      49.719668   \n270   1.034488   1.032393   1.032171   1.031987    ...       1.035376   \n435  50.003659  50.004048  50.004458  50.005220    ...      50.016273   \n102  50.369325  50.369312  50.369305  50.368439    ...      50.272077   \n\n     50.024052  50.026566  50.030256  50.032482  50.035234  50.037086  \\\n165   1.044285   1.044085   1.043707   1.043292   1.042826   1.042206   \n164   1.044285   1.044085   1.043707   1.043292   1.042826   1.042206   \n28   50.034697  50.035111  50.035433  50.035712  50.035886  50.036008   \n395  49.978174  49.977955  49.977505  49.977067  49.977006  49.976683   \n193   1.033957   1.034036   1.034220   1.034448   1.034452   1.034562   \n709  49.999265  49.998108  49.997009  49.995971  49.994998  49.994094   \n514  49.984361  49.984687  49.985026  49.985363  49.985705  49.986060   \n769   1.056507   1.056503   1.056499   1.056495   1.056490   1.056486   \n136  49.674069  49.673257  49.672597  49.672053  49.671590  49.671171   \n404  49.991738  49.991673  49.991593  49.991489  49.991433  49.991314   \n483   1.037765   1.037652   1.037313   1.037162   1.036799   1.036546   \n140  49.974577  49.974606  49.973882  49.972721  49.973582  49.972996   \n664   1.062876   1.063015   1.063124   1.063206   1.063269   1.063317   \n6    50.041972  50.044999  50.048391  50.051335  50.054042  50.056476   \n377   1.034978   1.035186   1.035481   1.036101   1.036686   1.037231   \n718  50.002368  50.002278  50.002182  50.002081  50.001976  50.001867   \n73    1.055156   1.055103   1.055107   1.055164   1.055268   1.055411   \n632  49.936781  49.919928  49.961062  49.957058  49.953214  49.951822   \n254   1.028176   1.028244   1.028382   1.028361   1.028398   1.028451   \n145  49.977829  49.977075  49.976023  49.976561  49.975899  49.974644   \n538  49.991963  49.992131  49.992305  49.992486  49.992658  49.992842   \n292  50.018278  50.018299  50.018663  50.019119  50.019026  50.019519   \n451  50.003904  50.004348  50.004208  50.004562  50.004418  50.004740   \n132  49.966670  49.966029  49.965386  49.964707  49.963962  49.963124   \n363   1.033444   1.033445   1.033648   1.033745   1.034031   1.034277   \n319  50.081675  50.082175  50.082999  50.083408  50.084173  50.084573   \n425   1.028944   1.030493   1.032120   1.033898   1.035830   1.037903   \n739   1.056295   1.056290   1.056284   1.056278   1.056273   1.056267   \n731  50.007622  50.007627  50.007611  50.007575  50.007518  50.007439   \n41   50.043504  50.044344  50.044966  50.045321  50.045363  50.045084   \n..         ...        ...        ...        ...        ...        ...   \n21   50.008460  50.007519  50.006629  50.005800  50.005036  50.004339   \n313  50.006701  50.006962  50.006681  50.006986  50.006804  50.006957   \n459   1.040504   1.040474   1.040427   1.040387   1.040332   1.040284   \n160   1.044294   1.043922   1.043513   1.042965   1.042399   1.041801   \n276   1.038971   1.039315   1.039390   1.039506   1.039317   1.039183   \n191   1.033750   1.033953   1.034205   1.034237   1.034382   1.034569   \n385  49.989804  49.989725  49.989675  49.989556  49.989480  49.989425   \n413   1.046668   1.046692   1.046706   1.046740   1.046769   1.046805   \n491  49.987358  49.987610  49.987872  49.988143  49.988411  49.988696   \n343   1.037997   1.038020   1.037972   1.038005   1.037971   1.037923   \n308  50.180928  50.180966  50.182817  50.186318  50.185772  50.187712   \n661   1.056302   1.056304   1.056308   1.056314   1.056320   1.056327   \n130  49.859458  49.858797  49.858183  49.857584  49.856964  49.856295   \n663   1.056112   1.056100   1.056091   1.056082   1.056074   1.056065   \n99   49.903589  49.902937  49.902991  49.902412  49.902257  49.901736   \n372   1.033092   1.033258   1.033358   1.033625   1.033882   1.034097   \n87    1.038016   1.038189   1.038549   1.039044   1.039724   1.040524   \n458   1.045260   1.045244   1.045229   1.045200   1.045181   1.045149   \n330  50.183621  50.187204  50.186716  50.188628  50.191742  50.191460   \n214  49.892955  49.891820  49.890105  49.889730  49.887563  49.887637   \n466   1.042622   1.042228   1.041720   1.041176   1.040634   1.040119   \n121  49.877093  49.876443  49.875830  49.875221  49.874581  49.873881   \n614  49.961742  49.967431  49.968400  49.968729  49.969023  49.969393   \n20   50.020896  50.020069  50.018857  50.018058  50.017262  50.016493   \n700  50.002364  50.002375  50.002388  50.002405  50.002425  50.002447   \n71    1.055199   1.055144   1.055146   1.055200   1.055300   1.055439   \n106  49.719273  49.718934  49.718641  49.718380  49.718141  49.717721   \n270   1.035397   1.035517   1.035683   1.035590   1.035681   1.035555   \n435  50.016690  50.017340  50.017589  50.018208  50.018573  50.018933   \n102  50.270401  50.268955  50.267373  50.265632  50.264376  50.262808   \n\n     50.038782  50.040211  50.040868  \n165   1.041552   1.040853   1.040017  \n164   1.041552   1.040853   1.040017  \n28   50.036021  50.035980  50.035831  \n395  49.976340  49.975994  49.975808  \n193   1.034713   1.034614   1.034629  \n709  49.993261  49.992502  49.991820  \n514  49.986412  49.986767  49.987097  \n769   1.056482   1.056478   1.056474  \n136  49.670762  49.670328  49.669841  \n404  49.991257  49.991178  49.991072  \n483   1.036343   1.035944   1.035752  \n140  49.971750  49.973101  49.972551  \n664   1.063355   1.063384   1.063407  \n6    50.058551  50.060206  50.061389  \n377   1.038129   1.038864   1.039562  \n718  50.001754  50.001636  50.001515  \n73    1.055606   1.055718   1.055930  \n632  49.951693  49.952176  49.952984  \n254   1.028302   1.028251   1.028225  \n145  49.975849  49.975379  49.974221  \n538  49.993009  49.993185  49.993362  \n292  50.019522  50.019857  50.020292  \n451  50.004716  50.004620  50.004928  \n132  49.962168  49.961071  49.959834  \n363   1.034473   1.034890   1.035203  \n319  50.085345  50.085793  50.086518  \n425   1.040111   1.042434   1.044808  \n739   1.056261   1.056255   1.056250  \n731  50.007341  50.007222  50.007084  \n41   50.044385  50.043306  50.041834  \n..         ...        ...        ...  \n21   50.003712  50.002212  50.002549  \n313  50.007207  50.006944  50.007252  \n459   1.040222   1.040165   1.040108  \n160   1.041092   1.040371   1.039628  \n276   1.038742   1.038350   1.037687  \n191   1.034506   1.034643   1.034534  \n385  49.989342  49.989283  49.989236  \n413   1.046851   1.046886   1.046938  \n491  49.988965  49.989251  49.989516  \n343   1.037952   1.037908   1.037905  \n308  50.190611  50.190814  50.192641  \n661   1.056332   1.056337   1.056339  \n130  49.855547  49.854695  49.853717  \n663   1.056057   1.056047   1.056036  \n99   49.901360  49.900853  49.900325  \n372   1.034530   1.034879   1.035180  \n87    1.041413   1.042369   1.043267  \n458   1.045122   1.045097   1.045060  \n330  50.193343  50.195969  50.196659  \n214  49.885304  49.885674  49.884365  \n466   1.039446   1.038950   1.038226  \n121  49.873092  49.872189  49.871190  \n614  49.969830  49.970324  49.970886  \n20   50.015761  50.015074  50.013533  \n700  50.002473  50.002501  50.002531  \n71    1.055629   1.055737   1.055944  \n106  49.717822  49.717400  49.717278  \n270   1.035566   1.035368   1.035226  \n435  50.019069  50.019521  50.019432  \n102  50.261031  50.259898  50.258340  \n\n[591 rows x 81 columns]"
     ]
    }
   ],
   "source": [
    "from keras.callbacks import EarlyStopping  \n",
    "from decimal import ROUND_UP\n",
    "from keras import optimizers\n",
    "early_stopping = EarlyStopping(monitor='val_loss', patience=20, verbose=1, mode='auto')\n",
    "hist=model.fit(X_train1,\n",
    "          Y_train1,\n",
    "          batch_size=32,\n",
    "          epochs=3000, verbose=1,\n",
    "          validation_data=(X_test1, Y_test1),\n",
    "            \n",
    "          callbacks=[early_stopping])"
   ]
  },
  {
   "cell_type": "code",
   "execution_count": null,
   "metadata": {
    "collapsed": true
   },
   "outputs": [],
   "source": []
  }
 ],
 "metadata": {
  "kernelspec": {
   "display_name": "Python 3",
   "language": "python",
   "name": "python3"
  },
  "language_info": {
   "codemirror_mode": {
    "name": "ipython",
    "version": 3
   },
   "file_extension": ".py",
   "mimetype": "text/x-python",
   "name": "python",
   "nbconvert_exporter": "python",
   "pygments_lexer": "ipython3",
   "version": "3.6.3"
  }
 },
 "nbformat": 4,
 "nbformat_minor": 2
}
